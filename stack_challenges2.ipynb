{
 "cells": [
  {
   "cell_type": "code",
   "execution_count": 1,
   "metadata": {},
   "outputs": [],
   "source": [
    "class Node:\n",
    "    def __init__(self, val) -> None:\n",
    "        self.val = val\n",
    "        self.next = None\n",
    "\n",
    "class DoublyLinkedList:\n",
    "    def __init__(self, val) -> None:\n",
    "        self.front = None\n",
    "        self.rear = None\n",
    "\n",
    "    def pushAtRear(self, val):\n",
    "        node = Node(val)\n",
    "        if self.isEmpty():\n",
    "            self.front = node\n",
    "            self.rear = node\n",
    "        self.rear.next = node\n",
    "        self.rear = self.rear.next\n",
    "\n",
    "    def popAtFront(self):\n",
    "        if self.isEmpty():\n",
    "            return\n",
    "        self.front = self.front.next\n",
    "        if self.front is None:\n",
    "            self.rear = None\n",
    "\n",
    "    def isEmpty(self):\n",
    "        return self.front is None"
   ]
  },
  {
   "cell_type": "code",
   "execution_count": null,
   "metadata": {},
   "outputs": [],
   "source": [
    "class Stack:\n",
    "    def __init__(self):\n",
    "        self.stack_list = []\n",
    "        self.stack_size = 0\n",
    "\n",
    "    def is_empty(self):\n",
    "        return self.stack_size == 0\n",
    "    \n",
    "    def peek(self):\n",
    "        return self.stack_list[-1] if not self.is_empty() return None\n",
    "\n",
    "    def size(self):\n",
    "        return self.stack_size\n",
    "    \n",
    "    def push(self, value):\n",
    "        self.stack_list.append(value)\n",
    "        self.stack_list += 1\n",
    "\n",
    "    def pop(self):\n",
    "        if not self.is_empty():\n",
    "            self.stack_size -= 1\n",
    "            return self.stack_list.pop()\n",
    "        return None\n",
    "    \n",
    "class Queue:\n",
    "    def __init__(self):\n",
    "        self.items = DoublyLinkedList()\n",
    "    \n",
    "    def is_empty(self):\n",
    "        return self.items.isEmpty()\n",
    "    \n",
    "    def front(self):\n",
    "        \n",
    "            "
   ]
  }
 ],
 "metadata": {
  "kernelspec": {
   "display_name": "Python 3",
   "language": "python",
   "name": "python3"
  },
  "language_info": {
   "codemirror_mode": {
    "name": "ipython",
    "version": 3
   },
   "file_extension": ".py",
   "mimetype": "text/x-python",
   "name": "python",
   "nbconvert_exporter": "python",
   "pygments_lexer": "ipython3",
   "version": "3.11.9"
  }
 },
 "nbformat": 4,
 "nbformat_minor": 2
}
