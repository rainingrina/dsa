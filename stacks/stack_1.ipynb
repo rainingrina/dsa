{
 "cells": [
  {
   "cell_type": "markdown",
   "metadata": {},
   "source": [
    "Given a string s containing just the characters '(', ')', '{', '}', '[' and ']', determine if the input string is valid.\n",
    "\n",
    "An input string is valid if:\n",
    "\n",
    "Open brackets must be closed by the same type of brackets. <br>\n",
    "Open brackets must be closed in the correct order. <br>\n",
    "Every close bracket has a corresponding open bracket of the same type. <br>"
   ]
  },
  {
   "cell_type": "markdown",
   "metadata": {},
   "source": [
    "Example 1:<br>\n",
    "\n",
    "Input: s = \"()\" <br>\n",
    "\n",
    "Output: true <br>"
   ]
  },
  {
   "cell_type": "markdown",
   "metadata": {},
   "source": [
    "Example 2: <br>\n",
    "\n",
    "Input: s = \"()[]{}\" <br>\n",
    "\n",
    "Output: true <br>\n"
   ]
  },
  {
   "cell_type": "markdown",
   "metadata": {},
   "source": [
    "Example 3:\n",
    "\n",
    "Input: s = \"(]\"\n",
    "\n",
    "Output: false\n",
    "\n",
    "Example 4:\n",
    "\n",
    "Input: s = \"([])\"\n",
    "\n",
    "Output: true"
   ]
  },
  {
   "cell_type": "code",
   "execution_count": 1,
   "metadata": {},
   "outputs": [],
   "source": [
    "class Solution:\n",
    "    def isValid(self, s: str) -> bool:\n",
    "        Map = {\")\": \"(\", \"]\": \"[\", \"}\": \"{\"}\n",
    "        stack = []\n",
    "\n",
    "        for c in s:\n",
    "            if c not in Map:\n",
    "                stack.append(c)\n",
    "                continue\n",
    "            if not stack or stack[-1] != Map[c]:\n",
    "                return False\n",
    "            stack.pop()\n",
    "\n",
    "        return not stack"
   ]
  },
  {
   "cell_type": "code",
   "execution_count": 7,
   "metadata": {},
   "outputs": [],
   "source": [
    "class TwoStacks:\n",
    "    def __init__(self, n):\n",
    "        self.size = n\n",
    "        self.arr = [None] * n\n",
    "        self.top1 = -1\n",
    "        self.top2 = n\n",
    "\n",
    "    def push1(self, value):\n",
    "        if self.top1 < self.top2 - 1:\n",
    "            self.top1 += 1\n",
    "            self.arr[self.top1] = value\n",
    "        else:\n",
    "            print(\"Stack Overflow\")\n",
    "\n",
    "    def push2(self, value):\n",
    "        if self.top1 < self.top2 - 1:\n",
    "            self.top2 -= 1\n",
    "            self.arr[self.top2] = value\n",
    "        else:\n",
    "            print(\"Stack Overflow\")\n",
    "\n",
    "    def pop1(self):\n",
    "        if self.top1 >= 0:\n",
    "            value = self.arr[self.top1]\n",
    "            self.top1 -= 1\n",
    "            return value\n",
    "        else:\n",
    "            print(\"Stack Underflow\")\n",
    "            return None\n",
    "\n",
    "    def pop2(self):\n",
    "        if self.top2 < self.size:\n",
    "            value = self.arr[self.top2]\n",
    "            self.top2 += 1\n",
    "            return value\n",
    "        else:\n",
    "            print(\"Stack Underflow\")\n",
    "            return None\n",
    "        \n",
    "    def display(self):\n",
    "        return self.arr[:]"
   ]
  },
  {
   "cell_type": "code",
   "execution_count": 9,
   "metadata": {},
   "outputs": [
    {
     "name": "stdout",
     "output_type": "stream",
     "text": [
      "20\n",
      "50\n",
      "None\n"
     ]
    }
   ],
   "source": [
    "stack = TwoStacks(10)\n",
    "stack.push1(20)\n",
    "stack.push2(10)\n",
    "print(stack.pop1())\n",
    "stack.push1(100)\n",
    "stack.push2(50)\n",
    "print(stack.pop2())\n",
    "print(display())\n"
   ]
  },
  {
   "cell_type": "code",
   "execution_count": null,
   "metadata": {},
   "outputs": [],
   "source": []
  }
 ],
 "metadata": {
  "kernelspec": {
   "display_name": "Python 3",
   "language": "python",
   "name": "python3"
  },
  "language_info": {
   "codemirror_mode": {
    "name": "ipython",
    "version": 3
   },
   "file_extension": ".py",
   "mimetype": "text/x-python",
   "name": "python",
   "nbconvert_exporter": "python",
   "pygments_lexer": "ipython3",
   "version": "3.11.9"
  }
 },
 "nbformat": 4,
 "nbformat_minor": 2
}
