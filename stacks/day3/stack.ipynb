{
 "cells": [
  {
   "cell_type": "code",
   "execution_count": null,
   "metadata": {},
   "outputs": [],
   "source": [
    "class Solution:\n",
    "    def evalRPN(self, tokens):\n",
    "        stack = []\n",
    "        operations = [\"+\", \"-\", \"*\", \"/\"]\n",
    "        for ch in tokens:\n",
    "            if ch not in operations:\n",
    "                stack.append(int(ch))\n",
    "            else:\n",
    "                num2 = int(stack.pop())\n",
    "                num1 = int(stack.pop())\n",
    "                if ch == \"+\":\n",
    "                    stack.append(num1 + num2)\n",
    "                elif ch == \"-\":\n",
    "                    stack.append(num1 - num2)\n",
    "                elif ch == \"*\":\n",
    "                    stack.append(num1 * num2)\n",
    "                elif ch == \"/\":\n",
    "                    result = int(num1 / num2) if (num1 * num2) >= 0 else -(-num1 // num2)\n",
    "                    stack.append(result)\n",
    "            \n",
    "\n",
    "        return int(stack.pop())"
   ]
  }
 ],
 "metadata": {
  "language_info": {
   "name": "python"
  }
 },
 "nbformat": 4,
 "nbformat_minor": 2
}
